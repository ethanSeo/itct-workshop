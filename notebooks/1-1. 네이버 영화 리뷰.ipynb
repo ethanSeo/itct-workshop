{
 "cells": [
  {
   "cell_type": "markdown",
   "metadata": {},
   "source": [
    "# 네이버 영화 리뷰"
   ]
  },
  {
   "cell_type": "markdown",
   "metadata": {},
   "source": [
    "직접 크롤링하기엔 양이 많으니 https://github.com/e9t/nsmc 에 있는 corpus를 사용한다."
   ]
  },
  {
   "cell_type": "markdown",
   "metadata": {},
   "source": [
    "#### 파일 내용 구경하기\n",
    "\n",
    "```bash\n",
    "!head ../data/ratings.txt\n",
    "```"
   ]
  },
  {
   "cell_type": "code",
   "execution_count": null,
   "metadata": {
    "collapsed": false,
    "scrolled": true
   },
   "outputs": [],
   "source": []
  },
  {
   "cell_type": "markdown",
   "metadata": {},
   "source": [
    "#### CSV 파일 불러와서 긍정/부정 리뷰 나누기\n",
    "```python\n",
    "import csv\n",
    "\n",
    "pos_review = []\n",
    "neg_review = []\n",
    "\n",
    "with open('../data/ratings.txt', 'r') as data_file:\n",
    "    reader = csv.reader(data_file, delimiter='\\t')\n",
    "    header = next(reader)\n",
    "    for row in reader:\n",
    "        if int(row[2]) == 1:\n",
    "            pos_review.append(row[1])\n",
    "        else:\n",
    "            neg_review.append(row[1])\n",
    "```"
   ]
  },
  {
   "cell_type": "code",
   "execution_count": null,
   "metadata": {
    "collapsed": true
   },
   "outputs": [],
   "source": []
  },
  {
   "cell_type": "markdown",
   "metadata": {},
   "source": [
    "#### 1000개씩 랜덤 샘플링하기\n",
    "```python\n",
    "import numpy as np\n",
    "\n",
    "samples = np.random.choice(len(pos_review), 1000,\n",
    "                           replace=False)\n",
    "samples.sort()\n",
    "\n",
    "pos_review = [pos_review[i] for i in samples]\n",
    "neg_review = [neg_review[i] for i in samples]\n",
    "```"
   ]
  },
  {
   "cell_type": "code",
   "execution_count": null,
   "metadata": {
    "collapsed": false
   },
   "outputs": [],
   "source": []
  },
  {
   "cell_type": "markdown",
   "metadata": {},
   "source": [
    "#### 형태소 분석해서 형용사 숫자 세기\n",
    "```python\n",
    "from konlpy.tag import Twitter\n",
    "from collections import Counter\n",
    "\n",
    "def count_adjs(reviews):\n",
    "    stopwords = ['있다', '없다', '이렇다', '같다', '아니다', '스럽다', '이다']\n",
    "    \n",
    "    twt = Twitter()\n",
    "    counts = Counter()\n",
    "    \n",
    "    for review in reviews:\n",
    "        tags = twt.pos(review, stem=True)\n",
    "        for morph, tag in tags:\n",
    "            if tag == 'Adjective' and morph not in stopwords:\n",
    "                counts[morph] += 1\n",
    "    \n",
    "    return counts\n",
    "   \n",
    "pos_counts = count_adjs(pos_review)\n",
    "neg_counts = count_adjs(neg_review)\n",
    "```"
   ]
  },
  {
   "cell_type": "code",
   "execution_count": null,
   "metadata": {
    "collapsed": false
   },
   "outputs": [],
   "source": []
  },
  {
   "cell_type": "markdown",
   "metadata": {},
   "source": [
    "## 시각화"
   ]
  },
  {
   "cell_type": "markdown",
   "metadata": {},
   "source": [
    "### 1. 워드클라우드 그리기\n",
    "```python\n",
    "%matplotlib inline\n",
    "import matplotlib.pyplot as plt\n",
    "from wordcloud import WordCloud\n",
    "\n",
    "cloud = WordCloud(width=900, height=600, \n",
    "                  font_path='../data/08서울남산체 B.ttf', \n",
    "                  background_color='white')\n",
    "cloud = cloud.fit_words(pos_counts.items())\n",
    "\n",
    "plt.figure(figsize=(15, 20))\n",
    "plt.axis('off')\n",
    "plt.imshow(cloud)\n",
    "plt.show()\n",
    "```"
   ]
  },
  {
   "cell_type": "code",
   "execution_count": null,
   "metadata": {
    "collapsed": false,
    "scrolled": false
   },
   "outputs": [],
   "source": []
  },
  {
   "cell_type": "markdown",
   "metadata": {},
   "source": [
    "### 2. Bar Plot 그리기"
   ]
  },
  {
   "cell_type": "markdown",
   "metadata": {},
   "source": [
    "#### Matplotlib 한글 폰트 확인\n",
    "Seaborn은 영문 폰트를 기본으로 사용하기 때문에 한글은 네모네모로 깨져나온다. 한글 폰트를 확인하고 Seaborn을 세팅할 때 사용한다.\n",
    "```python\n",
    "import matplotlib\n",
    "matplotlib.font_manager.OSXInstalledFonts()\n",
    "```"
   ]
  },
  {
   "cell_type": "code",
   "execution_count": null,
   "metadata": {
    "collapsed": false
   },
   "outputs": [],
   "source": []
  },
  {
   "cell_type": "markdown",
   "metadata": {},
   "source": [
    "#### Seaborn import 및 세팅\n",
    "```python\n",
    "import seaborn as sb\n",
    "\n",
    "sb.set(style='whitegrid', font='AppleGothic')\n",
    "sb.set_color_codes('pastel')\n",
    "```"
   ]
  },
  {
   "cell_type": "code",
   "execution_count": null,
   "metadata": {
    "collapsed": false
   },
   "outputs": [],
   "source": []
  },
  {
   "cell_type": "markdown",
   "metadata": {},
   "source": [
    "#### Plot에 나타낼 값 설정\n",
    "긍정 리뷰에서 나타난 형용사들 중 상위 20개를 그려본다. 먼저 형용사를 세어 둔 `pos_counts` 딕셔너리의 아이템들을 가져온 다음, 많이 등장한 형용사부터 내림차순으로 정렬한다.\n",
    "```python\n",
    "from operator import itemgetter\n",
    "items = pos_counts.items()\n",
    "items = sorted(items, key=itemgetter(1), reverse=True)\n",
    "items = items[:20]\n",
    "x = [count for tag, count in items]\n",
    "y = [tag for tag, count in items]\n",
    "```"
   ]
  },
  {
   "cell_type": "code",
   "execution_count": null,
   "metadata": {
    "collapsed": false
   },
   "outputs": [],
   "source": []
  },
  {
   "cell_type": "markdown",
   "metadata": {},
   "source": [
    "#### Bar Plot 그리기\n",
    "```python\n",
    "plt.figure(figsize=(10, 10))\n",
    "sb.barplot(x=x, y=y, color='b')\n",
    "```"
   ]
  },
  {
   "cell_type": "code",
   "execution_count": null,
   "metadata": {
    "collapsed": false,
    "scrolled": false
   },
   "outputs": [],
   "source": []
  }
 ],
 "metadata": {
  "kernelspec": {
   "display_name": "Python [Root]",
   "language": "python",
   "name": "Python [Root]"
  },
  "language_info": {
   "codemirror_mode": {
    "name": "ipython",
    "version": 3
   },
   "file_extension": ".py",
   "mimetype": "text/x-python",
   "name": "python",
   "nbconvert_exporter": "python",
   "pygments_lexer": "ipython3",
   "version": "3.5.2"
  }
 },
 "nbformat": 4,
 "nbformat_minor": 0
}
