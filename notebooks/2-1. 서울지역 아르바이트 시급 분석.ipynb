{
 "cells": [
  {
   "cell_type": "markdown",
   "metadata": {},
   "source": [
    "# 서울지역 아르바이트 시급 분석\n",
    "알바몬(http://www.albamon.com) 서울 지역 시급 데이터 3일 치.\n",
    "\n",
    "미리 수집된 데이터를 사용한다(`../data/alba_data.csv`)"
   ]
  },
  {
   "cell_type": "markdown",
   "metadata": {},
   "source": [
    "### 시각화 준비"
   ]
  },
  {
   "cell_type": "code",
   "execution_count": null,
   "metadata": {
    "collapsed": false
   },
   "outputs": [],
   "source": [
    "%matplotlib inline\n",
    "import matplotlib\n",
    "import matplotlib.pyplot as plt"
   ]
  },
  {
   "cell_type": "markdown",
   "metadata": {},
   "source": [
    "#### 한글 폰트 설정"
   ]
  },
  {
   "cell_type": "code",
   "execution_count": null,
   "metadata": {
    "collapsed": true
   },
   "outputs": [],
   "source": [
    "# 맥\n",
    "matplotlib.rc('font', family='AppleGothic')"
   ]
  },
  {
   "cell_type": "code",
   "execution_count": null,
   "metadata": {
    "collapsed": false
   },
   "outputs": [],
   "source": [
    "# 윈도우\n",
    "font_name = matplotlib.font_manager.FontProperties(fname=\"c:/Windows/Fonts/malgun.ttf\").get_name()\n",
    "matplotlib.rc('font', family=font_name)"
   ]
  },
  {
   "cell_type": "markdown",
   "metadata": {},
   "source": [
    "### 데이터 둘러보기"
   ]
  },
  {
   "cell_type": "code",
   "execution_count": null,
   "metadata": {
    "collapsed": false
   },
   "outputs": [],
   "source": [
    "!head ../data/alba_data.csv"
   ]
  },
  {
   "cell_type": "markdown",
   "metadata": {},
   "source": [
    "### pandas 데이터프레임으로 불러오기"
   ]
  },
  {
   "cell_type": "code",
   "execution_count": null,
   "metadata": {
    "collapsed": false,
    "scrolled": true
   },
   "outputs": [],
   "source": [
    "import pandas as pd\n",
    "\n",
    "df = pd.read_csv('../data/alba_data.csv', delimiter='\\t')\n",
    "df.head()"
   ]
  },
  {
   "cell_type": "markdown",
   "metadata": {},
   "source": [
    "#### 전체 시급 히스토그램"
   ]
  },
  {
   "cell_type": "code",
   "execution_count": null,
   "metadata": {
    "collapsed": false,
    "scrolled": true
   },
   "outputs": [],
   "source": [
    "df.hist('pay')\n",
    "# df.hist('pay', bins=30)\n",
    "# df.hist('pay', bins=30, figsize=(15, 10))\n",
    "plt.show()"
   ]
  },
  {
   "cell_type": "markdown",
   "metadata": {},
   "source": [
    "#### 구별 시급 분포 박스플롯"
   ]
  },
  {
   "cell_type": "code",
   "execution_count": null,
   "metadata": {
    "collapsed": false,
    "scrolled": false
   },
   "outputs": [],
   "source": [
    "df.boxplot('pay', by='area', vert=False, figsize=(20, 10))\n",
    "plt.show()"
   ]
  },
  {
   "cell_type": "markdown",
   "metadata": {},
   "source": [
    "#### 10,000원 이상/이하 데이터만 추려내기\n",
    "아웃라이어가 꽤 많다. 만 원 이상, 만 원 미만 데이터를 따로 본다."
   ]
  },
  {
   "cell_type": "code",
   "execution_count": null,
   "metadata": {
    "collapsed": true
   },
   "outputs": [],
   "source": [
    "df_outliers = df[df['pay'] >= 10000]\n",
    "df_ord = df[df['pay'] < 10000]"
   ]
  },
  {
   "cell_type": "code",
   "execution_count": null,
   "metadata": {
    "collapsed": false,
    "scrolled": true
   },
   "outputs": [],
   "source": [
    "df_over_10k"
   ]
  },
  {
   "cell_type": "code",
   "execution_count": null,
   "metadata": {
    "collapsed": false,
    "scrolled": true
   },
   "outputs": [],
   "source": [
    "df_ord.boxplot('pay', by='area', vert=False, figsize=(15, 10))\n",
    "\n",
    "plt.show()"
   ]
  },
  {
   "cell_type": "markdown",
   "metadata": {},
   "source": [
    "### 업종별 비교분석하기"
   ]
  },
  {
   "cell_type": "markdown",
   "metadata": {},
   "source": [
    "#### 편의점, 패스트푸드 3사 데이터 추려내기\n",
    "데이터를 확인해보면 회사 이름에 지역 정보(OO점)가 추가돼있다. 여기서는 분석하기 편하게 지역 정보를 제거한 회사 상호를 컬럼에 추가한다."
   ]
  },
  {
   "cell_type": "code",
   "execution_count": null,
   "metadata": {
    "collapsed": false
   },
   "outputs": [],
   "source": [
    "df[df.apply(lambda x: 'CU' in x.company, axis=1)]"
   ]
  },
  {
   "cell_type": "code",
   "execution_count": null,
   "metadata": {
    "collapsed": false
   },
   "outputs": [],
   "source": [
    "def is_cvs(row):\n",
    "    company = row['company']\n",
    "    if company == 'PCCUS PC방':\n",
    "        return False\n",
    "    \n",
    "    return 'GS25' in company or \\\n",
    "            '세븐일레븐' in company or \\\n",
    "            'CU' in company\n",
    "\n",
    "def is_fastfood(row):\n",
    "    company = row['company']\n",
    "    return '롯데리아' in company or \\\n",
    "            '맥도날드' in company or \\\n",
    "            '버거킹' in company\n",
    "\n",
    "def shorten_cvs_name(company):\n",
    "    if 'GS25' in company:\n",
    "        return 'GS25'\n",
    "    elif '세븐일레븐' in company:\n",
    "        return '세븐일레븐'\n",
    "    else:\n",
    "        return 'CU'\n",
    "\n",
    "def shorten_fastfood_name(company):\n",
    "    if '롯데리아' in company:\n",
    "        return '롯데리아'\n",
    "    elif '맥도날드' in company:\n",
    "        return '맥도날드'\n",
    "    else:\n",
    "        return '버거킹'"
   ]
  },
  {
   "cell_type": "code",
   "execution_count": null,
   "metadata": {
    "collapsed": false
   },
   "outputs": [],
   "source": [
    "df_cvs = df[df.apply(is_cvs, axis=1)].reset_index()\n",
    "df_fastfood = df[df.apply(is_fastfood, axis=1)].reset_index()\n",
    "\n",
    "df_cvs['shortname'] = df_cvs['company'].apply(shorten_cvs_name)\n",
    "df_fastfood['shortname'] = df_fastfood['company'].apply(shorten_fastfood_name)"
   ]
  },
  {
   "cell_type": "markdown",
   "metadata": {},
   "source": [
    "#### 편의점 회사별 시급 분포"
   ]
  },
  {
   "cell_type": "code",
   "execution_count": null,
   "metadata": {
    "collapsed": false
   },
   "outputs": [],
   "source": [
    "df_cvs.boxplot('pay', by='shortname', vert=False, figsize=(12, 6))\n",
    "plt.show()"
   ]
  },
  {
   "cell_type": "markdown",
   "metadata": {},
   "source": [
    "#### 패스트푸드 회사별 시급 분포"
   ]
  },
  {
   "cell_type": "code",
   "execution_count": null,
   "metadata": {
    "collapsed": false,
    "scrolled": true
   },
   "outputs": [],
   "source": [
    "df_fastfood.boxplot('pay', by='shortname', vert=False, figsize=(15, 5))\n",
    "plt.show()"
   ]
  }
 ],
 "metadata": {
  "kernelspec": {
   "display_name": "Python [Root]",
   "language": "python",
   "name": "Python [Root]"
  },
  "language_info": {
   "codemirror_mode": {
    "name": "ipython",
    "version": 3
   },
   "file_extension": ".py",
   "mimetype": "text/x-python",
   "name": "python",
   "nbconvert_exporter": "python",
   "pygments_lexer": "ipython3",
   "version": "3.5.2"
  }
 },
 "nbformat": 4,
 "nbformat_minor": 0
}
