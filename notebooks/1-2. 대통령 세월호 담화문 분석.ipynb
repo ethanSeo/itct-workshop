{
 "cells": [
  {
   "cell_type": "markdown",
   "metadata": {},
   "source": [
    "# 대통령 세월호 담화문 분석"
   ]
  },
  {
   "cell_type": "markdown",
   "metadata": {},
   "source": [
    "## 사건발생 34일째의 담화문"
   ]
  },
  {
   "cell_type": "markdown",
   "metadata": {},
   "source": [
    "#### 담화문 내용 살펴보기\n",
    "```\n",
    "!cat ../data/statement.txt\n",
    "```"
   ]
  },
  {
   "cell_type": "code",
   "execution_count": null,
   "metadata": {
    "collapsed": false
   },
   "outputs": [],
   "source": []
  },
  {
   "cell_type": "markdown",
   "metadata": {},
   "source": [
    "#### 담화문 로드해서 라인 별로 자르기\n",
    "```python\n",
    "with open('../data/statement.txt', 'r') as f:\n",
    "    lines = f.read().splitlines()\n",
    "```"
   ]
  },
  {
   "cell_type": "code",
   "execution_count": null,
   "metadata": {
    "collapsed": true
   },
   "outputs": [],
   "source": []
  },
  {
   "cell_type": "markdown",
   "metadata": {},
   "source": [
    "#### 빈 문장을 정리하기\n",
    "```python\n",
    "sents = [line for line in lines if line != '']\n",
    "```"
   ]
  },
  {
   "cell_type": "code",
   "execution_count": null,
   "metadata": {
    "collapsed": true
   },
   "outputs": [],
   "source": []
  },
  {
   "cell_type": "markdown",
   "metadata": {},
   "source": [
    "#### 형태소 분석기 테스트\n",
    "문장 리스트 `sents`의 첫 번째 문장을 가져와서 코모란 형태소 분석기로 분석해본다.\n",
    "```python\n",
    "sent = sents[0]\n",
    "print(sent)\n",
    "\n",
    "from konlpy.tag import Komoran\n",
    "tagger = Komoran()\n",
    "tags = tagger.pos(sent)\n",
    "print(tags)\n",
    "```"
   ]
  },
  {
   "cell_type": "code",
   "execution_count": null,
   "metadata": {
    "collapsed": false,
    "scrolled": true
   },
   "outputs": [],
   "source": []
  },
  {
   "cell_type": "markdown",
   "metadata": {},
   "source": [
    "#### 각 문장 형태소 분석\n",
    "```python\n",
    "sents = [tagger.pos(sent) for sent in sents]\n",
    "```"
   ]
  },
  {
   "cell_type": "code",
   "execution_count": null,
   "metadata": {
    "collapsed": false
   },
   "outputs": [],
   "source": []
  },
  {
   "cell_type": "markdown",
   "metadata": {},
   "source": [
    "#### 한 번이라도 등장한 명사 종류 수집하기\n",
    "각 문장의 형태소 중 일반명사(NNG)또는 고유명사(NNP)를 수집한다. 명사 목록을 만들 것이기 때문에 집합을 사용해서 명사를 모은 후 리스트로 변환한다. 그리고 문장-단어 행렬 계산에 사용할 명사-번호 딕셔너리도 준비한다.\n",
    "```python\n",
    "nouns = set()\n",
    "\n",
    "for sent in sents:\n",
    "    for morph, tag in sent:\n",
    "        if tag in ['NNP', 'NNG']:\n",
    "            nouns.add(morph)\n",
    "            \n",
    "nouns = list(nouns)\n",
    "noun_index = {noun: i for i, noun in enumerate(nouns)}\n",
    "```"
   ]
  },
  {
   "cell_type": "code",
   "execution_count": null,
   "metadata": {
    "collapsed": true
   },
   "outputs": [],
   "source": []
  },
  {
   "cell_type": "markdown",
   "metadata": {},
   "source": [
    "### 문장-단어 행렬 계산\n",
    "```python\n",
    "import numpy as np\n",
    "occurs = np.zeros([len(sents), len(nouns)])\n",
    "\n",
    "for i, sent in enumerate(sents):\n",
    "    for morph, tag in sent:\n",
    "        if tag in ['NNP', 'NNG']:\n",
    "            index = noun_index[morph]\n",
    "            occurs[i][index] = 1\n",
    "```"
   ]
  },
  {
   "cell_type": "code",
   "execution_count": null,
   "metadata": {
    "collapsed": true
   },
   "outputs": [],
   "source": []
  },
  {
   "cell_type": "markdown",
   "metadata": {},
   "source": [
    "### 공존 단어 행렬 계산\n",
    "```python\n",
    "co_occurs = occurs.T.dot(occurs)\n",
    "```"
   ]
  },
  {
   "cell_type": "code",
   "execution_count": null,
   "metadata": {
    "collapsed": true
   },
   "outputs": [],
   "source": []
  },
  {
   "cell_type": "markdown",
   "metadata": {},
   "source": [
    "### 연관 단어 NetworkX 그래프 생성\n",
    "```python\n",
    "import networkx as nx\n",
    "G = nx.Graph()\n",
    "\n",
    "for i in range(len(nouns)):\n",
    "    for j in range(i + 1, len(nouns)):\n",
    "        if co_occurs[i][j] > 3:\n",
    "            G.add_edge(nouns[i], nouns[j])\n",
    "```"
   ]
  },
  {
   "cell_type": "code",
   "execution_count": null,
   "metadata": {
    "collapsed": false
   },
   "outputs": [],
   "source": []
  },
  {
   "cell_type": "markdown",
   "metadata": {},
   "source": [
    "### 그래프 시각화\n",
    "```python\n",
    "%matplotlib inline\n",
    "import matplotlib.pyplot as plt\n",
    "\n",
    "plt.figure(figsize=(15, 15))\n",
    "layout = nx.spring_layout(G, k=.1)\n",
    "nx.draw(G, pos=layout, with_labels=True, \\\n",
    "        font_size=20, font_family=\"AppleGothic\", \\\n",
    "        alpha=0.3, node_size=2000)\n",
    "plt.show()\n",
    "```"
   ]
  },
  {
   "cell_type": "code",
   "execution_count": null,
   "metadata": {
    "collapsed": false
   },
   "outputs": [],
   "source": []
  },
  {
   "cell_type": "markdown",
   "metadata": {},
   "source": [
    "### 1주기 담화문으로 반복하기"
   ]
  },
  {
   "cell_type": "markdown",
   "metadata": {},
   "source": [
    "#### 파일 로드, 빈 줄 정리\n",
    "```python\n",
    "with open('../data/statement_next.txt', 'r') as f:\n",
    "    lines = f.read().splitlines()\n",
    "lines = [line for line in lines if line != '']\n",
    "```"
   ]
  },
  {
   "cell_type": "code",
   "execution_count": null,
   "metadata": {
    "collapsed": true
   },
   "outputs": [],
   "source": []
  },
  {
   "cell_type": "markdown",
   "metadata": {},
   "source": [
    "#### 각 줄을 문장으로 쪼개 문장 리스트에 삽입\n",
    "```python\n",
    "from nltk.tokenize import sent_tokenize\n",
    "\n",
    "sents = []\n",
    "for line in lines:\n",
    "    line_sents = sent_tokenize(line)\n",
    "    sents.extend(line_sents)\n",
    "```"
   ]
  },
  {
   "cell_type": "code",
   "execution_count": null,
   "metadata": {
    "collapsed": true
   },
   "outputs": [],
   "source": []
  },
  {
   "cell_type": "markdown",
   "metadata": {},
   "source": [
    "#### 각 문장을 형태소 분석\n",
    "```python\n",
    "from konlpy.tag import Komoran\n",
    "\n",
    "tagger = Komoran()\n",
    "sents = [tagger.pos(line) for line in sents]\n",
    "```"
   ]
  },
  {
   "cell_type": "code",
   "execution_count": null,
   "metadata": {
    "collapsed": true
   },
   "outputs": [],
   "source": []
  },
  {
   "cell_type": "markdown",
   "metadata": {},
   "source": [
    "#### 명사 리스트 추출\n",
    "```python\n",
    "nouns = set()\n",
    "\n",
    "for sent in sents:\n",
    "    for morph, tag in sent:\n",
    "        if tag in ['NNP', 'NNG']:\n",
    "            nouns.add(morph)\n",
    "\n",
    "nouns = list(nouns)\n",
    "noun_index = {noun: i for i, noun in enumerate(nouns)}\n",
    "```"
   ]
  },
  {
   "cell_type": "code",
   "execution_count": null,
   "metadata": {
    "collapsed": true
   },
   "outputs": [],
   "source": []
  },
  {
   "cell_type": "markdown",
   "metadata": {},
   "source": [
    "#### 문장-단어 행렬 및 공존 단어 행렬 계산\n",
    "```python\n",
    "occurs = np.zeros([len(sents), len(nouns)])\n",
    "\n",
    "for i, sent in enumerate(sents):\n",
    "    for morph, tag in sent:\n",
    "        if tag in ['NNP', 'NNG']:\n",
    "            index = noun_index[morph]\n",
    "            occurs[i][index] = 1\n",
    "\n",
    "co_occurs = occurs.T.dot(occurs)\n",
    "```"
   ]
  },
  {
   "cell_type": "code",
   "execution_count": null,
   "metadata": {
    "collapsed": false
   },
   "outputs": [],
   "source": []
  },
  {
   "cell_type": "markdown",
   "metadata": {},
   "source": [
    "#### 연관 단어 그래프 생성\n",
    "```python\n",
    "import networkx as nx\n",
    "g = nx.Graph()\n",
    "\n",
    "for i in range(len(nouns)):\n",
    "    for j in range(i + 1, len(nouns)):\n",
    "        if co_occurs[i][j] > 1:\n",
    "            g.add_edge(nouns[i], nouns[j])\n",
    "```"
   ]
  },
  {
   "cell_type": "code",
   "execution_count": null,
   "metadata": {
    "collapsed": false
   },
   "outputs": [],
   "source": []
  },
  {
   "cell_type": "markdown",
   "metadata": {},
   "source": [
    "#### 그래프 시각화\n",
    "```python\n",
    "plt.figure(figsize=(15, 15))\n",
    "layout = nx.spring_layout(g, k=.1)\n",
    "nx.draw(g, pos=layout, with_labels=True, font_size=20, font_family=\"AppleGothic\", alpha=0.3, node_size=2000)\n",
    "plt.show()\n",
    "```"
   ]
  },
  {
   "cell_type": "code",
   "execution_count": null,
   "metadata": {
    "collapsed": false
   },
   "outputs": [],
   "source": []
  }
 ],
 "metadata": {
  "kernelspec": {
   "display_name": "Python [Root]",
   "language": "python",
   "name": "Python [Root]"
  },
  "language_info": {
   "codemirror_mode": {
    "name": "ipython",
    "version": 3
   },
   "file_extension": ".py",
   "mimetype": "text/x-python",
   "name": "python",
   "nbconvert_exporter": "python",
   "pygments_lexer": "ipython3",
   "version": "3.5.2"
  }
 },
 "nbformat": 4,
 "nbformat_minor": 0
}
